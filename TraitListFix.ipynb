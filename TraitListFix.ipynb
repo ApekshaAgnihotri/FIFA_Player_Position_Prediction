{
 "cells": [
  {
   "cell_type": "code",
   "execution_count": 17,
   "metadata": {},
   "outputs": [
    {
     "name": "stdout",
     "output_type": "stream",
     "text": [
      "A\n",
      "B\n",
      "C\n"
     ]
    }
   ],
   "source": [
    "#Juliana \n",
    "#Code to fix the traitlist problem between the train and test files\n",
    "\n",
    "#Use the following to save all the traits read when processing the train data \n",
    "import os\n",
    "\n",
    "traitlist = [\"A\", \"B\", \"C\"]\n",
    "openFile = open('./Traits.txt', 'w')\n",
    "for i in traitlist:\n",
    "    print(i)\n",
    "    openFile.writelines(str(i) + '\\n')\n",
    "openFile.close()"
   ]
  },
  {
   "cell_type": "code",
   "execution_count": 21,
   "metadata": {},
   "outputs": [],
   "source": [
    "#Use the following to open the file of saved traits and read them into a list to use the in preparing the test data\n",
    "openFile = open('./Traits.txt', 'r')\n",
    "traitslist = list(openFile.read())"
   ]
  },
  {
   "cell_type": "code",
   "execution_count": 23,
   "metadata": {},
   "outputs": [
    {
     "name": "stdout",
     "output_type": "stream",
     "text": [
      "['A', 'B', 'C']\n"
     ]
    }
   ],
   "source": [
    "#Check that the traits correctly copied over\n",
    "print(traitlist)"
   ]
  },
  {
   "cell_type": "code",
   "execution_count": null,
   "metadata": {},
   "outputs": [],
   "source": []
  }
 ],
 "metadata": {
  "kernelspec": {
   "display_name": "Python 3",
   "language": "python",
   "name": "python3"
  },
  "language_info": {
   "codemirror_mode": {
    "name": "ipython",
    "version": 3
   },
   "file_extension": ".py",
   "mimetype": "text/x-python",
   "name": "python",
   "nbconvert_exporter": "python",
   "pygments_lexer": "ipython3",
   "version": "3.5.2"
  }
 },
 "nbformat": 4,
 "nbformat_minor": 2
}
