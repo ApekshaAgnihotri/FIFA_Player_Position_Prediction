{
 "cells": [
  {
   "cell_type": "code",
   "execution_count": 2,
   "metadata": {},
   "outputs": [],
   "source": [
    "import numpy as np\n",
    "import pandas as pd"
   ]
  },
  {
   "cell_type": "code",
   "execution_count": 11,
   "metadata": {},
   "outputs": [],
   "source": [
    "df=pd.read_csv(\"B:\\MS_SCU\\Winter20\\DataMiningAndPatterRecognition\\Project\\Dataset\\players_19.csv\",sep=\",\",header=\"infer\",index_col=[\"sofifa_id\"])\n",
    "attributes=df.filter(items=[\"sofifa_id\",\"player_url\",\"short_name\",\"long_name\",\"age\",\"dob\",\"height_cm\",\"weight_kg\",\"nationality\",\"club\",\"overall\",\"potential\",\"value_eur\",\"wage_eur\",\"preferred_foot\",\"international_reputation\",\"weak_foot\",\"skill_moves\",\"work_rate\",\"body_type\",\"real_face\",\"release_clause_eur\",\"player_tags\",\"team_jersey_number\",\"loaned_from\",\"joined\",\"contract_valid_until\",\"nation_jersey_number\",\"pace\",\"shooting\",\"passing\",\"dribbling\",\"defending\",\"physic\",\"gk_diving\",\"gk_handling\",\"gk_kicking\",\"gk_reflexes\",\"gk_speed\",\"gk_positioning\",\"player_traits \",\"attacking_crossing\",\"attacking_finishing\",\"attacking_heading_accuracy\",\"attacking_short_passing\",\"attacking_volleys\",\"skill_dribbling\",\"skill_curve\",\"skill_fk_accuracy\",\"skill_long_passing\",\"skill_ball_control\",\"movement_acceleration\",\"movement_sprint_speed\",\"movement_agility\",\"movement_reactions\",\"movement_balance\",\"power_shot_power\",\"power_jumping\",\"power_stamina\",\"power_strength\",\"power_long_shots\",\"mentality_aggression\",\"mentality_interceptions\",\"mentality_positioning\",\"mentality_vision\",\"mentality_penalties\",\"mentality_composure\",\"defending_marking\",\"defending_standing_tackle\",\"defending_sliding_tackle\",\"goalkeeping_diving\",\"goalkeeping_handling\",\"goalkeeping_kicking\",\"goalkeeping_positioning\",\"goalkeeping_reflexes\"])\n",
    "labels=df.filter(items=[\"ls\",\"st\",\"rs\",\"lw\",\"lf\",\"cf\",\"rf\",\"rw\",\"lam\",\"cam\",\"ram\",\"lm\",\"lcm\",\"cm\",\"rcm\",\"rm\",\"lwb\",\"ldm\",\"cdm\",\"rdm\",\"rwb\",\"lb\",\"lcb\",\"cb\",\"rcb\",\"rb\"])"
   ]
  },
  {
   "cell_type": "code",
   "execution_count": 9,
   "metadata": {},
   "outputs": [
    {
     "data": {
      "text/plain": [
       "<bound method NDFrame.describe of                                                   player_url  \\\n",
       "sofifa_id                                                      \n",
       "20801      https://sofifa.com/player/20801/c-ronaldo-dos-...   \n",
       "158023     https://sofifa.com/player/158023/lionel-messi/...   \n",
       "190871     https://sofifa.com/player/190871/neymar-da-sil...   \n",
       "193080     https://sofifa.com/player/193080/david-de-gea-...   \n",
       "192985     https://sofifa.com/player/192985/kevin-de-bruy...   \n",
       "...                                                      ...   \n",
       "238985     https://sofifa.com/player/238985/pierce-philli...   \n",
       "240160     https://sofifa.com/player/240160/alexander-kal...   \n",
       "241304     https://sofifa.com/player/241304/junliang-ma/1...   \n",
       "240158     https://sofifa.com/player/240158/christoph-ehl...   \n",
       "243961     https://sofifa.com/player/243961/evan-tweed/19...   \n",
       "\n",
       "                  short_name                            long_name  age  \\\n",
       "sofifa_id                                                                \n",
       "20801      Cristiano Ronaldo  Cristiano Ronaldo dos Santos Aveiro   33   \n",
       "158023              L. Messi       Lionel Andrés Messi Cuccittini   31   \n",
       "190871             Neymar Jr        Neymar da Silva Santos Junior   26   \n",
       "193080                De Gea                David De Gea Quintana   27   \n",
       "192985          K. De Bruyne                      Kevin De Bruyne   27   \n",
       "...                      ...                                  ...  ...   \n",
       "238985           P. Phillips                      Pierce Phillips   19   \n",
       "240160            A. Kaltner                    Alexander Kaltner   18   \n",
       "241304           Ma Junliang                                  马俊亮   20   \n",
       "240158             C. Ehlich                     Christoph Ehlich   19   \n",
       "243961              E. Tweed                           Evan Tweed   19   \n",
       "\n",
       "                  dob  height_cm  weight_kg          nationality  \\\n",
       "sofifa_id                                                          \n",
       "20801      1985-02-05        187         83             Portugal   \n",
       "158023     1987-06-24        170         72            Argentina   \n",
       "190871     1992-02-05        175         68               Brazil   \n",
       "193080     1990-11-07        193         76                Spain   \n",
       "192985     1991-06-28        181         70              Belgium   \n",
       "...               ...        ...        ...                  ...   \n",
       "238985     1998-09-28        180         72  Republic of Ireland   \n",
       "240160     1999-10-24        178         75              Germany   \n",
       "241304     1998-03-02        181         64             China PR   \n",
       "240158     1999-02-02        179         73              Germany   \n",
       "243961     1999-03-01        180         72  Republic of Ireland   \n",
       "\n",
       "                          club  overall  ...  mentality_penalties  \\\n",
       "sofifa_id                                ...                        \n",
       "20801                 Juventus       94  ...                   85   \n",
       "158023            FC Barcelona       94  ...                   75   \n",
       "190871     Paris Saint-Germain       92  ...                   81   \n",
       "193080       Manchester United       91  ...                   40   \n",
       "192985         Manchester City       91  ...                   79   \n",
       "...                        ...      ...  ...                  ...   \n",
       "238985               Cork City       47  ...                   40   \n",
       "240160      SpVgg Unterhaching       47  ...                   48   \n",
       "241304        Guangzhou R&F FC       47  ...                   36   \n",
       "240158      SpVgg Unterhaching       47  ...                   47   \n",
       "243961              Derry City       47  ...                   40   \n",
       "\n",
       "           mentality_composure  defending_marking defending_standing_tackle  \\\n",
       "sofifa_id                                                                     \n",
       "20801                       95                 28                        31   \n",
       "158023                      96                 33                        28   \n",
       "190871                      94                 27                        24   \n",
       "193080                      68                 15                        21   \n",
       "192985                      88                 67                        58   \n",
       "...                        ...                ...                       ...   \n",
       "238985                      35                 41                        44   \n",
       "240160                      37                 28                        15   \n",
       "241304                      39                 54                        37   \n",
       "240158                      47                 40                        42   \n",
       "243961                      43                 39                        39   \n",
       "\n",
       "           defending_sliding_tackle  goalkeeping_diving  goalkeeping_handling  \\\n",
       "sofifa_id                                                                       \n",
       "20801                            23                   7                    11   \n",
       "158023                           26                   6                    11   \n",
       "190871                           33                   9                     9   \n",
       "193080                           13                  90                    85   \n",
       "192985                           51                  15                    13   \n",
       "...                             ...                 ...                   ...   \n",
       "238985                           53                  11                     6   \n",
       "240160                           22                  15                     5   \n",
       "241304                           40                   5                    12   \n",
       "240158                           42                  13                    12   \n",
       "243961                           48                   6                    11   \n",
       "\n",
       "          goalkeeping_kicking goalkeeping_positioning goalkeeping_reflexes  \n",
       "sofifa_id                                                                   \n",
       "20801                      15                      14                   11  \n",
       "158023                     15                      14                    8  \n",
       "190871                     15                      15                   11  \n",
       "193080                     87                      88                   94  \n",
       "192985                      5                      10                   13  \n",
       "...                       ...                     ...                  ...  \n",
       "238985                     13                      11                    8  \n",
       "240160                     14                      12                    8  \n",
       "241304                     14                      14                   11  \n",
       "240158                     11                      15                   12  \n",
       "243961                      9                       5                    8  \n",
       "\n",
       "[17770 rows x 73 columns]>"
      ]
     },
     "execution_count": 9,
     "metadata": {},
     "output_type": "execute_result"
    }
   ],
   "source": [
    "attributes_df.describe"
   ]
  },
  {
   "cell_type": "code",
   "execution_count": null,
   "metadata": {},
   "outputs": [],
   "source": []
  }
 ],
 "metadata": {
  "kernelspec": {
   "display_name": "Python 3",
   "language": "python",
   "name": "python3"
  },
  "language_info": {
   "codemirror_mode": {
    "name": "ipython",
    "version": 3
   },
   "file_extension": ".py",
   "mimetype": "text/x-python",
   "name": "python",
   "nbconvert_exporter": "python",
   "pygments_lexer": "ipython3",
   "version": "3.7.4"
  }
 },
 "nbformat": 4,
 "nbformat_minor": 2
}
