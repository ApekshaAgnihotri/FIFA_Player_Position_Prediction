{
 "cells": [
  {
   "cell_type": "code",
   "execution_count": 1,
   "metadata": {},
   "outputs": [],
   "source": [
    "# @Author: Apeksha\n",
    "# Approach: Using sklearn MultiOutputClassifier generating multiple label output.\n",
    "# Step: 1. Read the processed label and features.\n",
    "#       2. Apply PCA, REG, Normalization, Scaling\n",
    "#       3. Prepare data for Cross Validation \n",
    "#       4. Do Classification\n",
    "#       5. Evaluation"
   ]
  },
  {
   "cell_type": "code",
   "execution_count": 6,
   "metadata": {},
   "outputs": [],
   "source": [
    "import numpy as np\n",
    "import pandas as pd\n",
    "from sklearn.model_selection import train_test_split\n",
    "from sklearn.multioutput import MultiOutputClassifier\n",
    "from sklearn.neighbors import KNeighborsClassifier\n",
    "from sklearn.linear_model import LogisticRegression\n",
    "from sklearn.preprocessing import normalize\n",
    "\n",
    "from sklearn.model_selection import train_test_split\n",
    "from sklearn.metrics import classification_report,confusion_matrix,matthews_corrcoef\n",
    "from sklearn.ensemble import RandomForestClassifier\n",
    "from sklearn.svm import SVC\n",
    "\n",
    "from sklearn.svm import SVC\n",
    "from sklearn.model_selection import GridSearchCV\n",
    "from sklearn.decomposition import PCA"
   ]
  },
  {
   "cell_type": "code",
   "execution_count": 7,
   "metadata": {},
   "outputs": [],
   "source": [
    "#Method to read dataset\n",
    "def read_dataset(path):\n",
    "    return pd.read_csv(path,header=\"infer\",sep=\",\")"
   ]
  },
  {
   "cell_type": "code",
   "execution_count": null,
   "metadata": {},
   "outputs": [],
   "source": [
    "#set path to read the processed features files\n",
    "features_path=\"features.csv\"\n",
    "\n",
    "#set path to read processed label file\n",
    "label_path=\"labels.csv\"\n",
    "\n",
    "feature_df=read_dataset(features_path);\n",
    "label_df=read_dataset(label_path);"
   ]
  },
  {
   "cell_type": "code",
   "execution_count": null,
   "metadata": {},
   "outputs": [],
   "source": [
    "#Add code for cross validation if there is anyother way of doing it.\n",
    "X_train, X_test, y_train, y_test=train_test_split(feature_df,label_df, test_size=0.2,random_state=11) "
   ]
  },
  {
   "cell_type": "code",
   "execution_count": 12,
   "metadata": {},
   "outputs": [],
   "source": [
    "# Method to train the model\n",
    "# Params- Estimator: Classifier being used for classification\n",
    "#         X_train: input features\n",
    "#         Y_train: input labels\n",
    "#Return- Trained model of type Estimator \n",
    "def fit_model(estimator,X_train, y_train):\n",
    "    return MultiOutputClassifier(estimator).fit(X_train, y_train)\n",
    "\n",
    "# Method to make the predictions\n",
    "# Params- Model: Trained model\n",
    "#         X_test: Test data\n",
    "#Return-  A list of labels per record. [[],[],[],[]] of shape 82117 * 27\n",
    "def predict(model,X_test):\n",
    "    return model.predict(X_test)\n",
    "\n",
    "# Method to get model evaluation paramaters\n",
    "def print_classification_report(predictions):\n",
    "    print(classification_report(y_test, predictions))\n",
    "    \n",
    "# Method to write predictions to a text file.\n",
    "def generate_output_file(predictions):\n",
    "    output_path=\"output.txt\"\n",
    "    with open(output_path, 'w') as filehandle:\n",
    "        filehandle.writelines(\"%s\\n\" % label for label in predictions)"
   ]
  },
  {
   "cell_type": "code",
   "execution_count": null,
   "metadata": {},
   "outputs": [],
   "source": [
    "#Logistic regression Estimator\n",
    "lr_estimator=LogisticRegression()\n",
    "#C=1.0, class_weight=None, dual=False, fit_intercept=True,intercept_scaling=1, max_iter=100, multi_class='ovr', n_jobs=1,       penalty='l2', random_state=None, solver='liblinear', tol=0.0001,\n",
    "#          verbose=0, warm_start=False\n",
    "\n",
    "model=fit_model(lr_estimator,X_train, y_train)\n",
    "predictions=model.predict(X_test)\n",
    "\n",
    "print_classification_report(predictions)"
   ]
  },
  {
   "cell_type": "code",
   "execution_count": null,
   "metadata": {},
   "outputs": [],
   "source": [
    "# Random Forest Estimator\n",
    "rf_estimator=RandomForestClassifier(n_estimators=100,bootstrap = True,max_features = 'sqrt')\n",
    "#rf_estimator = RandomForestClassifier(n_estimators=100) #Submission one\n",
    "#rf_estimator = RandomForestClassifier(bootstrap=False,n_estimators=100,max_features=None,class_weight=\"balanced\") #Submission 2 and 3\n",
    "\n",
    "model=fit_model(rf_estimator,X_train, y_train)\n",
    "predictions=model.predict(X_test)\n",
    "\n",
    "print_classification_report(predictions)"
   ]
  },
  {
   "cell_type": "code",
   "execution_count": null,
   "metadata": {},
   "outputs": [],
   "source": [
    "# SVM Estimator\n",
    "sv_estimator=SVC(C=100,gamma=1,kernel=\"sigmoid\")\n",
    "\n",
    "model=fit_model(sv_estimator,X_train, y_train)\n",
    "predictions=model.predict(X_test)\n",
    "\n",
    "print_classification_report(predictions)"
   ]
  },
  {
   "cell_type": "code",
   "execution_count": null,
   "metadata": {},
   "outputs": [],
   "source": []
  }
 ],
 "metadata": {
  "kernelspec": {
   "display_name": "Python 3",
   "language": "python",
   "name": "python3"
  },
  "language_info": {
   "codemirror_mode": {
    "name": "ipython",
    "version": 3
   },
   "file_extension": ".py",
   "mimetype": "text/x-python",
   "name": "python",
   "nbconvert_exporter": "python",
   "pygments_lexer": "ipython3",
   "version": "3.7.4"
  }
 },
 "nbformat": 4,
 "nbformat_minor": 2
}
