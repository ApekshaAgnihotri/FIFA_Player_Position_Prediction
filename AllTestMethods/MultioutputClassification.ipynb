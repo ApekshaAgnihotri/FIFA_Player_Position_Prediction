{
 "cells": [
  {
   "cell_type": "code",
   "execution_count": 1,
   "metadata": {},
   "outputs": [],
   "source": [
    "# @Author: Apeksha\n",
    "# Approach: Using sklearn MultiOutputClassifier generating multiple label output.\n",
    "# Step: 1. Read the processed label and features.\n",
    "#       2. Apply PCA, REG, Normalization, Scaling --- TODO\n",
    "#       3. Prepare data for Cross Validation \n",
    "#       4. Do Classification\n",
    "#       5. Evaluation\n",
    "\n"
   ]
  },
  {
   "cell_type": "code",
   "execution_count": 2,
   "metadata": {},
   "outputs": [],
   "source": [
    "import numpy as np\n",
    "import pandas as pd\n",
    "from sklearn.model_selection import train_test_split\n",
    "from sklearn.multioutput import MultiOutputClassifier\n",
    "from sklearn.neighbors import KNeighborsClassifier\n",
    "from sklearn.linear_model import LogisticRegression\n",
    "from sklearn.preprocessing import normalize\n",
    "\n",
    "from sklearn.model_selection import train_test_split\n",
    "from sklearn.metrics import classification_report,confusion_matrix,matthews_corrcoef\n",
    "from sklearn.ensemble import RandomForestClassifier\n",
    "from sklearn.svm import SVC\n",
    "\n",
    "from sklearn.svm import SVC\n",
    "from sklearn.model_selection import GridSearchCV\n",
    "from sklearn.decomposition import PCA"
   ]
  },
  {
   "cell_type": "code",
   "execution_count": 3,
   "metadata": {},
   "outputs": [],
   "source": [
    "#Method to read dataset\n",
    "def read_dataset(path):\n",
    "    return pd.read_csv(path,header=\"infer\",sep=\",\",low_memory=False)"
   ]
  },
  {
   "cell_type": "code",
   "execution_count": 4,
   "metadata": {},
   "outputs": [],
   "source": [
    "#set path to read the processed features files\n",
    "\n",
    "train_path=r\"B:\\MS_SCU\\Winter20\\DataMiningAndPatterRecognition\\Project\\train1.csv\"\n",
    "train_label_path=r\"B:\\MS_SCU\\Winter20\\DataMiningAndPatterRecognition\\Project\\train_labels.csv\"\n",
    "train_df=read_dataset(train_path)\n",
    "train_label_df=read_dataset(train_label_path)\n",
    "\n",
    "test_path=r\"B:\\MS_SCU\\Winter20\\DataMiningAndPatterRecognition\\Project\\test.csv\"\n",
    "test_label_path=r\"B:\\MS_SCU\\Winter20\\DataMiningAndPatterRecognition\\Project\\test_label.csv\"\n",
    "test_df=read_dataset(test_path)\n",
    "test_label_df=read_dataset(test_label_path)"
   ]
  },
  {
   "cell_type": "code",
   "execution_count": 5,
   "metadata": {},
   "outputs": [],
   "source": [
    "# with open(\"output_train_columns.txt\", 'w') as filehandle:\n",
    "#     filehandle.writelines(\"%s\\n\" % col for col in train_df.columns)\n",
    "    \n",
    "# with open(\"output_test_columns.txt\", 'w') as filehandle:\n",
    "#     filehandle.writelines(\"%s\\n\" % col for col in test_df.columns)"
   ]
  },
  {
   "cell_type": "code",
   "execution_count": 6,
   "metadata": {},
   "outputs": [
    {
     "name": "stdout",
     "output_type": "stream",
     "text": [
      "Train df shape:  (82717, 105)\n",
      "Train label df shape:  (82717, 27)\n",
      "test df shape:  (18278, 105)\n",
      "test label df shape:  (18278, 27)\n"
     ]
    }
   ],
   "source": [
    "print('Train df shape: ',train_df.shape)\n",
    "print('Train label df shape: ', train_label_df.shape)\n",
    "print('test df shape: ',test_df.shape)\n",
    "print('test label df shape: ',test_label_df.shape)"
   ]
  },
  {
   "cell_type": "code",
   "execution_count": 7,
   "metadata": {},
   "outputs": [],
   "source": [
    "# Method to train the model\n",
    "# Params- Estimator: Classifier being used for classification\n",
    "#         X_train: input features\n",
    "#         Y_train: input labels\n",
    "#Return- Trained model of type Estimator \n",
    "def fit_model(estimator,X_train, y_train):\n",
    "    print('Inside fit_model', X_train.shape,' labels: ',y_train.shape)\n",
    "    return MultiOutputClassifier(estimator).fit(X_train, y_train)\n",
    "\n",
    "# Method to make the predictions\n",
    "# Params- Model: Trained model\n",
    "#         X_test: Test data\n",
    "#Return-  A list of labels per record. [[],[],[],[]] of shape 82117 * 27\n",
    "def predict_poistion(model,X_test):\n",
    "    print('Inside prediction: ',X_test.shape)\n",
    "    return model.predict(X_test)\n",
    "\n",
    "# Method to get model evaluation paramaters\n",
    "def print_classification_report(predictions,actual_labels):\n",
    "    print(\"actual_labels: \",actual_labels.shape)\n",
    "    print(classification_report(actual_labels, predictions))\n",
    "    \n",
    "# Method to write predictions to a text file.\n",
    "def generate_output_file(predictions):\n",
    "    output_path=\"output.txt\"\n",
    "    with open(output_path, 'w') as filehandle:\n",
    "        filehandle.writelines(\"%s\\n\" % label for label in predictions)\n",
    "        \n",
    "def apply_postprocessing(model_name,pred_df):\n",
    "    #Following line of code based off of Apeksha's Code From Feature Extraction\n",
    "    labels=pred_df[pred_df.apply(lambda x: x == pred_df.max(axis = 1))] \n",
    "    #print(labels)\n",
    "    classes=[]\n",
    "\n",
    "    #Write all labels to this file\n",
    "    outputFile = open(model_name+'.txt','w')\n",
    "\n",
    "    for i in range(labels.shape[0]):\n",
    "        #Following line of code based off of Apeksha's Code From Feature Extraction\n",
    "        l=list(labels.columns[np.isfinite(labels.iloc[i])])\n",
    "        #print(l)\n",
    "        formatted_l=map(lambda x:x+' ', l)\n",
    "        #Eventually add in the players's name too\n",
    "        outputFile.writelines(\"ID: \" + str(i) + \", Total Classes: \" + str(len(l)) + \" Classes: \")\n",
    "        outputFile.writelines(formatted_l)\n",
    "        outputFile.writelines('\\n')\n",
    "        #for i in l:\n",
    "        #    outputFile.write(i)\n",
    "        #    outputFile.write('\\n')\n",
    "        classes.append(l)\n",
    "        #Save the classes to a file\n",
    "    #print(len(classes))\n",
    "    #print(classes)\n",
    "    outputFile.close()"
   ]
  },
  {
   "cell_type": "code",
   "execution_count": 8,
   "metadata": {},
   "outputs": [],
   "source": [
    "#A model definition for cross validation.\n",
    "all_models=[]"
   ]
  },
  {
   "cell_type": "code",
   "execution_count": 9,
   "metadata": {},
   "outputs": [
    {
     "name": "stdout",
     "output_type": "stream",
     "text": [
      "Inside fit_model (82717, 105)  labels:  (82717, 27)\n",
      "Inside prediction:  (18278, 105)\n"
     ]
    }
   ],
   "source": [
    "#Logistic regression Estimator\n",
    "lr_estimator=LogisticRegression(C=1.0, class_weight=None, dual=False, fit_intercept=True,intercept_scaling=1, max_iter=100, multi_class='ovr', n_jobs=1,penalty='l2', random_state=None, solver='liblinear', tol=0.0001,verbose=0, warm_start=False)\n",
    "lr_model=fit_model(lr_estimator,train_df, train_label_df)\n",
    "all_models.append((\"LR\",lr_model))\n",
    "\n",
    "lr_predictions=predict_poistion(lr_model,test_df)\n",
    "#print_classification_report(lr_predictions,test_label_df)\n",
    "\n",
    "lr_pred_df = pd.DataFrame(lr_predictions, columns = ['gk', 'ls', 'st', 'rs', 'lw', 'lf', 'cf', 'rf', 'rw', 'lam', 'cam', 'ram', 'lm', 'lcm', 'cm', 'rcm', 'rm', 'lwb', 'ldm', 'cdm', 'rdm', 'rwb', 'lb', 'lcb', 'cb', 'rcb', 'rb'])\n",
    "apply_postprocessing(\"lr\",lr_pred_df)"
   ]
  },
  {
   "cell_type": "code",
   "execution_count": 10,
   "metadata": {},
   "outputs": [
    {
     "data": {
      "text/plain": [
       "0.7268794064981532"
      ]
     },
     "execution_count": 10,
     "metadata": {},
     "output_type": "execute_result"
    }
   ],
   "source": [
    "from sklearn.metrics import f1_score\n",
    "lr_f1_score=f1_score(test_label_df,lr_predictions,average='weighted')\n",
    "lr_f1_score"
   ]
  },
  {
   "cell_type": "code",
   "execution_count": 11,
   "metadata": {},
   "outputs": [],
   "source": [
    "#SVM Estimator\n",
    "# sv_estimator=SVC()\n",
    "\n",
    "# sv_model=fit_model(sv_estimator,train_df, train_label_df)\n",
    "# all_models.append((\"SVM\",sv_model))\n",
    "\n",
    "# sv_predictions=predict_poistion(sv_model,test_df)\n",
    "# print_classification_report(sv_predictions,test_label_df)\n",
    "\n",
    "# sv_pred_df = pd.DataFrame(sv_predictions, columns = ['gk', 'ls', 'st', 'rs', 'lw', 'lf', 'cf', 'rf', 'rw', 'lam', 'cam', 'ram', 'lm', 'lcm', 'cm', 'rcm', 'rm', 'lwb', 'ldm', 'cdm', 'rdm', 'rwb', 'lb', 'lcb', 'cb', 'rcb', 'rb'])\n",
    "# apply_postprocessing(\"SVM\",sv_pred_df)\n",
    " "
   ]
  },
  {
   "cell_type": "code",
   "execution_count": 12,
   "metadata": {},
   "outputs": [
    {
     "name": "stdout",
     "output_type": "stream",
     "text": [
      "Inside fit_model (82717, 105)  labels:  (82717, 27)\n",
      "Inside prediction:  (18278, 105)\n"
     ]
    }
   ],
   "source": [
    "# Random Forest Estimator\n",
    "rf_estimator=RandomForestClassifier(n_estimators=100,bootstrap = True,max_features = 'sqrt')\n",
    "\n",
    "rf_model=fit_model(rf_estimator,train_df, train_label_df)\n",
    "all_models.append((\"RF\",rf_model))\n",
    "rf_predictions=predict_poistion(rf_model,test_df)\n",
    "\n",
    "#print_classification_report(rf_predictions,test_label_df)\n",
    "rf_pred_df = pd.DataFrame(rf_predictions, columns = ['gk', 'ls', 'st', 'rs', 'lw', 'lf', 'cf', 'rf', 'rw', 'lam', 'cam', 'ram', 'lm', 'lcm', 'cm', 'rcm', 'rm', 'lwb', 'ldm', 'cdm', 'rdm', 'rwb', 'lb', 'lcb', 'cb', 'rcb', 'rb'])\n",
    "apply_postprocessing(\"RF\",rf_pred_df)"
   ]
  },
  {
   "cell_type": "code",
   "execution_count": 13,
   "metadata": {},
   "outputs": [
    {
     "data": {
      "text/plain": [
       "0.8262074153177804"
      ]
     },
     "execution_count": 13,
     "metadata": {},
     "output_type": "execute_result"
    }
   ],
   "source": [
    "from sklearn.metrics import f1_score\n",
    "rf_f1_score=f1_score(test_label_df,rf_predictions,average='weighted')\n",
    "rf_f1_score"
   ]
  },
  {
   "cell_type": "code",
   "execution_count": 14,
   "metadata": {},
   "outputs": [
    {
     "name": "stdout",
     "output_type": "stream",
     "text": [
      "Inside fit_model (82717, 105)  labels:  (82717, 27)\n",
      "Inside prediction:  (18278, 105)\n"
     ]
    }
   ],
   "source": [
    "#KNN Estimator\n",
    "knn_estimator=KNeighborsClassifier(n_neighbors=3)\n",
    "\n",
    "knn_model=fit_model(knn_estimator,train_df, train_label_df)\n",
    "all_models.append((\"KNN\",knn_model))\n",
    "knn_predictions=predict_poistion(knn_model,test_df)\n",
    "\n",
    "#print_classification_report(knn_predictions,test_label_df)\n",
    "knn_pred_df = pd.DataFrame(knn_predictions, columns = ['gk', 'ls', 'st', 'rs', 'lw', 'lf', 'cf', 'rf', 'rw', 'lam', 'cam', 'ram', 'lm', 'lcm', 'cm', 'rcm', 'rm', 'lwb', 'ldm', 'cdm', 'rdm', 'rwb', 'lb', 'lcb', 'cb', 'rcb', 'rb'])\n",
    "apply_postprocessing(\"knn\",knn_pred_df)\n"
   ]
  },
  {
   "cell_type": "code",
   "execution_count": 15,
   "metadata": {},
   "outputs": [
    {
     "data": {
      "text/plain": [
       "0.7201385690253673"
      ]
     },
     "execution_count": 15,
     "metadata": {},
     "output_type": "execute_result"
    }
   ],
   "source": [
    "from sklearn.metrics import f1_score\n",
    "knn_f1_score=f1_score(test_label_df,knn_predictions,average='weighted')\n",
    "knn_f1_score"
   ]
  },
  {
   "cell_type": "code",
   "execution_count": 20,
   "metadata": {},
   "outputs": [
    {
     "data": {
      "text/plain": [
       "[('LR',\n",
       "  MultiOutputClassifier(estimator=LogisticRegression(C=1.0, class_weight=None,\n",
       "                                                     dual=False,\n",
       "                                                     fit_intercept=True,\n",
       "                                                     intercept_scaling=1,\n",
       "                                                     l1_ratio=None, max_iter=100,\n",
       "                                                     multi_class='ovr', n_jobs=1,\n",
       "                                                     penalty='l2',\n",
       "                                                     random_state=None,\n",
       "                                                     solver='liblinear',\n",
       "                                                     tol=0.0001, verbose=0,\n",
       "                                                     warm_start=False),\n",
       "                        n_jobs=None)),\n",
       " ('RF', MultiOutputClassifier(estimator=RandomForestClassifier(bootstrap=True,\n",
       "                                                         class_weight=None,\n",
       "                                                         criterion='gini',\n",
       "                                                         max_depth=None,\n",
       "                                                         max_features='sqrt',\n",
       "                                                         max_leaf_nodes=None,\n",
       "                                                         min_impurity_decrease=0.0,\n",
       "                                                         min_impurity_split=None,\n",
       "                                                         min_samples_leaf=1,\n",
       "                                                         min_samples_split=2,\n",
       "                                                         min_weight_fraction_leaf=0.0,\n",
       "                                                         n_estimators=100,\n",
       "                                                         n_jobs=None,\n",
       "                                                         oob_score=False,\n",
       "                                                         random_state=None,\n",
       "                                                         verbose=0,\n",
       "                                                         warm_start=False),\n",
       "                        n_jobs=None)),\n",
       " ('KNN', MultiOutputClassifier(estimator=KNeighborsClassifier(algorithm='auto',\n",
       "                                                       leaf_size=30,\n",
       "                                                       metric='minkowski',\n",
       "                                                       metric_params=None,\n",
       "                                                       n_jobs=None, n_neighbors=3,\n",
       "                                                       p=2, weights='uniform'),\n",
       "                        n_jobs=None))]"
      ]
     },
     "execution_count": 20,
     "metadata": {},
     "output_type": "execute_result"
    }
   ],
   "source": [
    "#https://stackoverflow.com/questions/28200786/how-to-plot-scikit-learn-classification-report\n",
    "all_models=[(\"LR\",lr_model),(\"RF\",rf_model),(\"KNN\",knn_model)]\n",
    "all_models"
   ]
  },
  {
   "cell_type": "code",
   "execution_count": null,
   "metadata": {},
   "outputs": [
    {
     "name": "stdout",
     "output_type": "stream",
     "text": [
      "rounds: :::::::\n",
      "[0.54545455 0.55560928 0.60287718 0.62632979 0.61496615 0.62814313\n",
      " 0.61762573 0.6261637  0.62422923 0.62628461]\n",
      "rounds: :::::::\n"
     ]
    }
   ],
   "source": [
    "# @Author: Apeksha\n",
    "# Method to use for Cross Validation of all the models. \n",
    "# This method is used for 10 fold cross validation of entire train set.\n",
    "# @Params: \n",
    "#         all_model: A list of tuple of the form (<'model name'>,<'model object'>)\n",
    "#\n",
    "from sklearn import model_selection\n",
    "# evaluate each model in turn\n",
    "results = []\n",
    "names = []\n",
    "scoring = 'accuracy'\n",
    "for name,model in all_models:\n",
    "    print(\"rounds: :::::::\")\n",
    "    kfold = model_selection.KFold(n_splits=10, random_state=0.11)\n",
    "    cv_results = model_selection.cross_val_score(model, train_df, train_label_df, cv=kfold, scoring=scoring)\n",
    "    print(cv_results)\n",
    "    results.append(np.average(cv_results))\n",
    "    names.append(name)    \n",
    "compare_f1_scores(names,results)"
   ]
  },
  {
   "cell_type": "code",
   "execution_count": null,
   "metadata": {},
   "outputs": [],
   "source": [
    "#print(results[3])\n",
    "bpr=[lr_f1_score,rf_f1_score,knn_f1_score]"
   ]
  },
  {
   "cell_type": "code",
   "execution_count": null,
   "metadata": {},
   "outputs": [],
   "source": [
    "ls=[0.54545455, 0.55560928, 0.60287718, 0.62632979, 0.61496615, 0.62814313, 0.61762573, 0.6261637,  0.62422923, 0.62628461]\n",
    "print(np.average(ls))"
   ]
  },
  {
   "cell_type": "code",
   "execution_count": null,
   "metadata": {},
   "outputs": [],
   "source": [
    "%matplotlib inline\n",
    "# boxplot algorithm comparison\n",
    "import matplotlib.pyplot as plt\n",
    "model_names=[\"LR\",\"RF\",\"KNN\"]\n",
    "f1_scores=[lr_f1_score,rf_f1_score,knn_f1_score]\n",
    "def compare_f1_scores(model_names,f1_scores):\n",
    "    y_pos = np.arange(len(model_names))\n",
    "    plt.bar(y_pos, f1_scores, align='center', alpha=0.5)\n",
    "    plt.xticks(y_pos, objects)\n",
    "    plt.ylabel('F1 Scores')\n",
    "    plt.title('Classifiers')\n",
    "    plt.show()"
   ]
  },
  {
   "cell_type": "code",
   "execution_count": null,
   "metadata": {},
   "outputs": [],
   "source": [
    "compare_f1_scores(model_names,f1_scores)"
   ]
  },
  {
   "cell_type": "code",
   "execution_count": null,
   "metadata": {},
   "outputs": [],
   "source": [
    "knn_predictions"
   ]
  },
  {
   "cell_type": "code",
   "execution_count": null,
   "metadata": {},
   "outputs": [],
   "source": [
    "score_df=pd.DataFrame(data=f1_scores,columns=model_names)\n",
    "score_df=score_df.mul([1, 100], axis=0)\n",
    "score_df=score_df.round(2)"
   ]
  }
 ],
 "metadata": {
  "kernelspec": {
   "display_name": "Python 3",
   "language": "python",
   "name": "python3"
  },
  "language_info": {
   "codemirror_mode": {
    "name": "ipython",
    "version": 3
   },
   "file_extension": ".py",
   "mimetype": "text/x-python",
   "name": "python",
   "nbconvert_exporter": "python",
   "pygments_lexer": "ipython3",
   "version": "3.7.4"
  }
 },
 "nbformat": 4,
 "nbformat_minor": 2
}
