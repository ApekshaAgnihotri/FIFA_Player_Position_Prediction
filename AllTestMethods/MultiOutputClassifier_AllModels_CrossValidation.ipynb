{
 "cells": [
  {
   "cell_type": "code",
   "execution_count": 1,
   "metadata": {},
   "outputs": [],
   "source": [
    "# @Author: Apeksha\n",
    "# Approach: Using sklearn MultiOutputClassifier generating multiple label output.\n",
    "# Script: For actual testing"
   ]
  },
  {
   "cell_type": "code",
   "execution_count": 2,
   "metadata": {},
   "outputs": [],
   "source": [
    "import numpy as np\n",
    "import pandas as pd\n",
    "from sklearn.model_selection import train_test_split\n",
    "from sklearn.multioutput import MultiOutputClassifier\n",
    "from sklearn.neighbors import KNeighborsClassifier\n",
    "from sklearn.linear_model import LogisticRegression\n",
    "from sklearn.preprocessing import normalize\n",
    "\n",
    "from sklearn.model_selection import train_test_split\n",
    "from sklearn.metrics import classification_report,confusion_matrix,matthews_corrcoef\n",
    "from sklearn.ensemble import RandomForestClassifier\n",
    "from sklearn.svm import SVC\n",
    "\n",
    "from sklearn.svm import SVC\n",
    "from sklearn.model_selection import GridSearchCV\n",
    "from sklearn.decomposition import PCA"
   ]
  },
  {
   "cell_type": "code",
   "execution_count": 3,
   "metadata": {},
   "outputs": [],
   "source": [
    "#Method to read dataset\n",
    "def read_dataset(path):\n",
    "    return pd.read_csv(path,header=\"infer\",sep=\",\",low_memory=False)"
   ]
  },
  {
   "cell_type": "code",
   "execution_count": 4,
   "metadata": {},
   "outputs": [],
   "source": [
    "# Method to train the model\n",
    "# Params- Estimator: Classifier being used for classification\n",
    "#         X_train: input features\n",
    "#         Y_train: input labels\n",
    "#Return- Trained model of type Estimator \n",
    "def fit_model(estimator,X_train, y_train):\n",
    "    print('Inside fit_model', X_train.shape,' labels: ',y_train.shape)\n",
    "    return MultiOutputClassifier(estimator).fit(X_train, y_train)\n",
    "\n",
    "# Method to make the predictions\n",
    "# Params- Model: Trained model\n",
    "#         X_test: Test data\n",
    "#Return-  A list of labels per record. [[],[],[],[]] of shape 82117 * 27\n",
    "def predict_poistion(model,X_test):\n",
    "    print('Inside prediction: ',X_test.shape)\n",
    "    return model.predict(X_test)\n",
    "\n",
    "# Method to get model evaluation paramaters\n",
    "def print_classification_report(predictions,actual_labels):\n",
    "    print(\"actual_labels: \",actual_labels.shape)\n",
    "    print(classification_report(actual_labels, predictions))\n",
    "    \n",
    "# Method to write predictions to a text file.\n",
    "def generate_output_file(predictions):\n",
    "    output_path=\"output.txt\"\n",
    "    with open(output_path, 'w') as filehandle:\n",
    "        filehandle.writelines(\"%s\\n\" % label for label in predictions)\n",
    "        \n",
    "#Model definition for cross validation.\n",
    "#values in this list is in the form (\"model_name\",model)\n",
    "all_models=[]"
   ]
  },
  {
   "cell_type": "code",
   "execution_count": 5,
   "metadata": {},
   "outputs": [],
   "source": [
    "# Define logistic regression model params for cross validation\n",
    "def create_lr_model(train_df,train_label_df):\n",
    "    lr_estimator=LogisticRegression(C=1.0, class_weight=None, dual=False, fit_intercept=True,intercept_scaling=1, max_iter=100, multi_class='ovr', n_jobs=1,penalty='l2', random_state=None, solver='liblinear', tol=0.0001,verbose=0, warm_start=False)\n",
    "    lr_model=fit_model(lr_estimator,train_df, train_label_df)\n",
    "    all_models.append((\"LR\",lr_model))"
   ]
  },
  {
   "cell_type": "code",
   "execution_count": 6,
   "metadata": {},
   "outputs": [],
   "source": [
    "# Define Random Forest model params for cross validation\n",
    "def create_rf_model(train_df,train_label_df):\n",
    "    rf_estimator=RandomForestClassifier(n_estimators=100,bootstrap = True,max_features = 'sqrt')\n",
    "    rf_model=fit_model(rf_estimator,train_df, train_label_df)\n",
    "    all_models.append((\"RF\",rf_model))"
   ]
  },
  {
   "cell_type": "code",
   "execution_count": 7,
   "metadata": {},
   "outputs": [],
   "source": [
    "# Define KNN model params for cross validation\n",
    "def create_knn_model(train_df,train_label_df):\n",
    "    knn_estimator=KNeighborsClassifier(n_neighbors=3)\n",
    "    knn_model=fit_model(knn_estimator,train_df, train_label_df)\n",
    "    all_models.append((\"KNN\",knn_model))"
   ]
  },
  {
   "cell_type": "code",
   "execution_count": 8,
   "metadata": {},
   "outputs": [],
   "source": [
    "# Method to plot graphs \n",
    "%matplotlib inline\n",
    "import matplotlib.pyplot as plt\n",
    "# model_names=[\"LR\",\"RF\",\"KNN\"]\n",
    "# f1_scores=[lr_f1_score,rf_f1_score,knn_f1_score]\n",
    "def compare_f1_scores(model_names,f1_scores):\n",
    "    y_pos = np.arange(len(model_names))\n",
    "    plt.bar(y_pos, f1_scores, align='center', alpha=0.5)\n",
    "    plt.xticks(y_pos, model_names)\n",
    "    plt.ylabel('F1 Scores')\n",
    "    plt.title('Classifiers')\n",
    "    plt.show()"
   ]
  },
  {
   "cell_type": "code",
   "execution_count": 9,
   "metadata": {},
   "outputs": [],
   "source": [
    "#set path to read the processed features files\n",
    "\n",
    "train_path=r\"players.csv\"\n",
    "train_label_path=r\"train_labels.csv\"\n",
    "train_df=read_dataset(train_path)\n",
    "train_label_df=read_dataset(train_label_path)\n",
    "\n",
    "#train_df=train_df.head(100)\n",
    "#train_label_df=train_label_df.head(100)"
   ]
  },
  {
   "cell_type": "code",
   "execution_count": 10,
   "metadata": {},
   "outputs": [
    {
     "name": "stdout",
     "output_type": "stream",
     "text": [
      "Inside fit_model (100, 105)  labels:  (100, 27)\n",
      "Inside fit_model (100, 105)  labels:  (100, 27)\n",
      "Inside fit_model (100, 105)  labels:  (100, 27)\n"
     ]
    }
   ],
   "source": [
    "create_lr_model(train_df,train_label_df)\n",
    "create_rf_model(train_df,train_label_df)\n",
    "create_knn_model(train_df,train_label_df)\n"
   ]
  },
  {
   "cell_type": "code",
   "execution_count": 12,
   "metadata": {},
   "outputs": [
    {
     "name": "stdout",
     "output_type": "stream",
     "text": [
      "Validating model:  LR\n",
      "[0.2 0.4 0.5 0.4 0.5 0.4 0.3 0.5 0.7 0.7]\n",
      "Validating model:  RF\n",
      "[0.5 0.5 0.6 0.5 0.5 0.5 0.6 0.5 0.6 0.5]\n",
      "Validating model:  KNN\n",
      "[0.3 0.5 0.6 0.6 0.5 0.5 0.5 0.5 0.7 0.5]\n"
     ]
    },
    {
     "data": {
      "image/png": "[encoded data removed]",
      "text/plain": [
       "<Figure size 432x288 with 1 Axes>"
      ]
     },
     "metadata": {
      "needs_background": "light"
     },
     "output_type": "display_data"
    }
   ],
   "source": [
    "# Method to perform cross validation on all the three models and compare the results.\n",
    "from sklearn import model_selection\n",
    "results = []\n",
    "names = []\n",
    "scoring = 'accuracy'\n",
    "\n",
    "# evaluate each model in turn\n",
    "for name,model in all_models:\n",
    "    print(\"Validating model: \",name)\n",
    "    kfold = model_selection.KFold(n_splits=10, random_state=0.11)\n",
    "    cv_results = model_selection.cross_val_score(model, train_df, train_label_df, cv=kfold, scoring=scoring)\n",
    "    print(cv_results)\n",
    "    results.append(np.average(cv_results))\n",
    "    names.append(name) \n",
    "\n",
    "compare_f1_scores(names,results)"
   ]
  },
  {
   "cell_type": "code",
   "execution_count": 13,
   "metadata": {},
   "outputs": [
    {
     "name": "stdout",
     "output_type": "stream",
     "text": [
      "[0.4600000000000001, 0.53, 0.52]\n",
      "['LR', 'RF', 'KNN']\n"
     ]
    },
    {
     "data": {
      "text/html": [
       "<div>\n",
       "<style scoped>\n",
       "    .dataframe tbody tr th:only-of-type {\n",
       "        vertical-align: middle;\n",
       "    }\n",
       "\n",
       "    .dataframe tbody tr th {\n",
       "        vertical-align: top;\n",
       "    }\n",
       "\n",
       "    .dataframe thead th {\n",
       "        text-align: right;\n",
       "    }\n",
       "</style>\n",
       "<table border=\"1\" class=\"dataframe\">\n",
       "  <thead>\n",
       "    <tr style=\"text-align: right;\">\n",
       "      <th></th>\n",
       "      <th>LR</th>\n",
       "      <th>RF</th>\n",
       "      <th>KNN</th>\n",
       "    </tr>\n",
       "  </thead>\n",
       "  <tbody>\n",
       "    <tr>\n",
       "      <td>Scores</td>\n",
       "      <td>46.0</td>\n",
       "      <td>53.0</td>\n",
       "      <td>52.0</td>\n",
       "    </tr>\n",
       "  </tbody>\n",
       "</table>\n",
       "</div>"
      ],
      "text/plain": [
       "          LR    RF   KNN\n",
       "Scores  46.0  53.0  52.0"
      ]
     },
     "execution_count": 13,
     "metadata": {},
     "output_type": "execute_result"
    }
   ],
   "source": [
    "# To generate the percentage table for all the model scores.\n",
    "score_df=pd.DataFrame(data=[results],columns=names,index=[\"Scores\"])\n",
    "score_df=score_df*100\n",
    "score_df=score_df.round(2)\n",
    "score_df.loc[0]=results\n",
    "score_df.head(1)"
   ]
  },
  {
   "cell_type": "code",
   "execution_count": null,
   "metadata": {},
   "outputs": [],
   "source": []
  }
 ],
 "metadata": {
  "kernelspec": {
   "display_name": "Python 3",
   "language": "python",
   "name": "python3"
  },
  "language_info": {
   "codemirror_mode": {
    "name": "ipython",
    "version": 3
   },
   "file_extension": ".py",
   "mimetype": "text/x-python",
   "name": "python",
   "nbconvert_exporter": "python",
   "pygments_lexer": "ipython3",
   "version": "3.7.4"
  }
 },
 "nbformat": 4,
 "nbformat_minor": 2
}
