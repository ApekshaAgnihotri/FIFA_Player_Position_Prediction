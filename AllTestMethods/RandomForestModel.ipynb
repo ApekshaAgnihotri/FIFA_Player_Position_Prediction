{
 "cells": [
  {
   "cell_type": "code",
   "execution_count": null,
   "metadata": {},
   "outputs": [],
   "source": [
    "#Juliana \n",
    "##Skeleton code For Random Forest Ensemble\n",
    "#Take the column for each attribute = Label Data\n",
    "#Total Columns: 32\n",
    "#Feed that column as the label data for each data point\n",
    "#e.g. record 1 has label 0, record 2 has label 1, record 3 has label 0, etc.\n",
    "#The model is thus studying the relationship between the players characteristics and the output label\n",
    "#There are 82717 records in total"
   ]
  },
  {
   "cell_type": "code",
   "execution_count": null,
   "metadata": {},
   "outputs": [],
   "source": [
    "#Train year 19\n",
    "#Test year 20\n",
    "\n",
    "#Train year 15\n",
    "#Test year 16\n",
    "\n",
    "#Cut data into train and test folders Gaurav gives\n",
    "\n",
    "#Train Random Forest Models on all columns\n",
    "for i in range(0, 32):\n",
    "    modelname = 'model' + str(i)\n",
    "    #print(modelname)\n",
    "    model = RandomForestClassifier(n_estimators=100, \n",
    "                               bootstrap = True,\n",
    "                               max_features = 'sqrt')\n",
    "    train_labels = newdf[col_names[i]]\n",
    "    #train = All the features of our data\n",
    "    #Fits the features to the labels\n",
    "    modelname = model.fit(train, train_labels)\n",
    "    models.append(modelname)"
   ]
  },
  {
   "cell_type": "code",
   "execution_count": null,
   "metadata": {},
   "outputs": [],
   "source": [
    "#Method 1: Predict results of all the tests, then loop through and print out all the results\n",
    "#Run each test through every Random Forest Model and append the result\n",
    "#Two separate loops\n",
    "#O(n): 32 + numRecords (test cases)\n",
    "#Better method\n",
    "\n",
    "#Result returned if it's 1 = True, 0 = False\n",
    "#assign test data here\n",
    "test = test\n",
    "\n",
    "#Run predictions\n",
    "all_predictions = []\n",
    "for i in range(0, 32):\n",
    "    #Select the model\n",
    "    #modelname = 'model' + str(i)\n",
    "    #Test the model. Pass all the test data, not one by one returns labels of all the test data\n",
    "    rf_predictions = models[i].predict(test)\n",
    "    #Final shape should be 32 X 82717: 32 lists of 82717 length \n",
    "    all_predictions.append(rf_predictions)\n",
    "#Uncomment when everything is ready \n",
    "df = pd.DataFrame(all_predictions, index = ['gk_diving', 'gk_handling', 'gk_kicking', 'gk_reflexes', 'gk_speed', 'gk_positioning', 'ls', 'st', 'rs', 'lw', 'lf', 'cf', 'rf', 'rw', 'lam', 'cam', 'ram', 'lm', 'lcm', 'cm', 'rcm', 'rm', 'lwb', 'ldm', 'cdm', 'rdm', 'rwb', 'lb', 'lcb', 'cb', 'rcb', 'rb']) \n",
    "#Transpose so it's records X labels instead of labels X records\n",
    "###final_data = df.T (Transposing done in the next cell don't do it here)\n",
    "#Look up the ones for each record and print them out \n",
    "#Look up values for exactly one "
   ]
  },
  {
   "cell_type": "code",
   "execution_count": null,
   "metadata": {},
   "outputs": [],
   "source": [
    "#Extracts all the labels for each test case \n",
    "#Based off of Apeksha's Code From Feature Extraction\n",
    "addT = df.T\n",
    "print(addT)\n",
    "labels=addT[addT.apply(lambda x: x == addT.max(axis = 1))] \n",
    "print(labels)\n",
    "classes=[]\n",
    "# Getting the column names\n",
    "for i in range(labels.shape[0]):\n",
    "    l=list(labels.columns[np.isfinite(labels.iloc[i])])\n",
    "    print(l)\n",
    "    classes.append(l)"
   ]
  },
  {
   "cell_type": "code",
   "execution_count": null,
   "metadata": {},
   "outputs": [],
   "source": [
    "#Method 2: Predict and output for each test once it's predicted\n",
    "#Loop through all tests and for each test \n",
    "#Two nested loops\n",
    "#O(n): numRecords (test cases) X 32\n",
    "\n",
    "#Take one test\n",
    "#Run it on all models\n",
    "#And give the output at the end at the end\n",
    "\n",
    "#onetest = one record\n",
    "#predict for all 32 labels\n",
    "for i in range(0, numRecords):\n",
    "    #Run predictions\n",
    "    #onetest = test_record[i]\n",
    "    for i in range(0, 32):\n",
    "        #Select the model\n",
    "        #modelname = 'model' + str(i)\n",
    "        #Test the model. Pass all the test data, not one by one returns labels of all the test data\n",
    "        rf_predictions = models[i].predict(one_test)\n",
    "        #rf_predictions = 32 values\n",
    "        #df = pd.DataFrame(rf_predictions, columns = ['gk_diving', 'gk_handling', 'gk_kicking', 'gk_reflexes', 'gk_speed', 'gk_positioning', 'ls', 'st', 'rs', 'lw', 'lf', 'cf', 'rf', 'rw', 'lam', 'cam', 'ram', 'lm', 'lcm', 'cm', 'rcm', 'rm', 'lwb', 'ldm', 'cdm', 'rdm', 'rwb', 'lb', 'lcb', 'cb', 'rcb', 'rb']) \n",
    "        #Search for all 1s and print out the column names"
   ]
  },
  {
   "cell_type": "code",
   "execution_count": 1,
   "metadata": {},
   "outputs": [
    {
     "name": "stdout",
     "output_type": "stream",
     "text": [
      "Empty DataFrame\n",
      "Columns: [gk_diving, gk_handling, gk_kicking, gk_reflexes, gk_speed, gk_positioning, ls, st, rs, lw, lf, cf, rf, rw, lam, cam, ram, lm, lcm, cm, rcm, rm, lwb, ldm, cdm, rdm, rwb, lb, lcb, cb, rcb, rb]\n",
      "Index: []\n",
      "\n",
      "[0 rows x 32 columns]\n",
      "[[0, 1], [1, 0], [1, 0]]\n",
      "             0  1\n",
      "gk_diving    0  1\n",
      "gk_handling  1  0\n",
      "gk_kicking   1  0\n"
     ]
    }
   ],
   "source": [
    "#Tests/Experiments to convert lists to dataframes\n",
    "import pandas as pd\n",
    "\n",
    "l = [ [0,1], [1,0], [1, 0]]\n",
    "#for i in range(32):\n",
    "#    k = []\n",
    "#    l.append(k)\n",
    "df = pd.DataFrame(columns = ['gk_diving', 'gk_handling', 'gk_kicking', 'gk_reflexes', 'gk_speed', 'gk_positioning', 'ls', 'st', 'rs', 'lw', 'lf', 'cf', 'rf', 'rw', 'lam', 'cam', 'ram', 'lm', 'lcm', 'cm', 'rcm', 'rm', 'lwb', 'ldm', 'cdm', 'rdm', 'rwb', 'lb', 'lcb', 'cb', 'rcb', 'rb']) \n",
    "#print(df)\n",
    "#df = pd.DataFrame(l)\n",
    "print(df)\n",
    "\n",
    "print(l)\n",
    "add = pd.DataFrame(l, index=['gk_diving', 'gk_handling', 'gk_kicking'])\n",
    "print(add)"
   ]
  },
  {
   "cell_type": "code",
   "execution_count": 23,
   "metadata": {},
   "outputs": [
    {
     "name": "stdout",
     "output_type": "stream",
     "text": [
      "   gk_diving  gk_handling  gk_kicking\n",
      "0        NaN          1.0         1.0\n",
      "1        1.0          NaN         NaN\n",
      "['gk_handling', 'gk_kicking']\n",
      "['gk_diving']\n",
      "[['gk_handling', 'gk_kicking'], ['gk_diving']]\n"
     ]
    }
   ],
   "source": [
    "import numpy as np\n",
    "add.head()\n",
    "addT = add.T\n",
    "#print(addT)\n",
    "labels=addT[addT.apply(lambda x: x == addT.max(axis = 1))] \n",
    "print(labels)\n",
    "classes=[]\n",
    "# Getting the column names\n",
    "\n",
    "outputFile = open('classes.txt','w')\n",
    "for i in range(labels.shape[0]):\n",
    "    l=list(labels.columns[np.isfinite(labels.iloc[i])])\n",
    "    print(l)\n",
    "    #Method 1 to print to file\n",
    "    for i in l:\n",
    "        outputFile.write(i)\n",
    "        outputFile.write('\\n\\n')\n",
    "    classes.append(l)\n",
    "    #Save the classes to a file\n",
    "print(classes)\n",
    "\n",
    "#Method 2 to print to files\n",
    "#outputFile = open('classes.txt','w')\n",
    "#for k in classes:\n",
    "#    for i in k:\n",
    "#        outputFile.writelines(i + '\\n')\n",
    "\n",
    "outputFile.close()"
   ]
  },
  {
   "cell_type": "code",
   "execution_count": null,
   "metadata": {},
   "outputs": [],
   "source": [
    "#Test code for experimenting with extracting column names of value 1. Disregard.\n",
    "classes = []\n",
    "print(add)\n",
    "print(\"*********\")\n",
    "for i in range(add.shape[0]):\n",
    "    r = add[i]\n",
    "    c = r.max()\n",
    "    print(\"The value c:\")\n",
    "    print(c)\n",
    "    print(\"Printing the values in row: \" + str(i))\n",
    "    print( r )\n",
    "    classes.append(c)\n",
    "print(\"Classes\")   \n",
    "\n",
    "\n",
    "addT = add.T\n",
    "#print(addT)\n",
    "#print(add)\n",
    "\n",
    "#print(\"Number of Records in the Table:\")\n",
    "#print(addT.shape[0])\n",
    "#print(\"Number of columns:\")\n",
    "#print(len(addT.columns))\n",
    "\n",
    "classes = []\n",
    "#print(\"*********\")\n",
    "for i in range(addT.shape[0]):\n",
    "    r = addT.iloc[i]\n",
    "    c = r.max()\n",
    "#    print(\"The value c:\")\n",
    "#    print(c)\n",
    "#    print(\"Printing the values in row: \" + str(i))\n",
    "#    print( r )\n",
    "    classes.append(c)\n",
    "#print(\"Classes\")    \n",
    "#print(classes)\n",
    "\n",
    "labels=addT[addT.apply(lambda x: x == addT.max(axis = 1))] \n",
    "#print(labels)\n",
    "classes=[]\n",
    "k = []\n",
    "#print(labels.columns)\n",
    "#print(labels.iloc[0])\n",
    "# Getting the column names\n",
    "for i in range(labels.shape[0]):\n",
    "    l=list(labels.columns[np.isfinite(labels.iloc[i])])\n",
    "    #print(l)\n",
    "    classes.append(l) \n",
    "    #k = addT.lookup(labels.iloc[i], labels.columns)\n",
    "    #print(\"K value:\")\n",
    "    #print(k)"
   ]
  },
  {
   "cell_type": "code",
   "execution_count": 7,
   "metadata": {},
   "outputs": [
    {
     "name": "stdout",
     "output_type": "stream",
     "text": [
      "[['gk_handling', 'gk_kicking'], ['gk_diving']]\n"
     ]
    }
   ],
   "source": [
    "print(classes)"
   ]
  },
  {
   "cell_type": "code",
   "execution_count": null,
   "metadata": {},
   "outputs": [],
   "source": []
  }
 ],
 "metadata": {
  "kernelspec": {
   "display_name": "Python 3",
   "language": "python",
   "name": "python3"
  },
  "language_info": {
   "codemirror_mode": {
    "name": "ipython",
    "version": 3
   },
   "file_extension": ".py",
   "mimetype": "text/x-python",
   "name": "python",
   "nbconvert_exporter": "python",
   "pygments_lexer": "ipython3",
   "version": "3.5.2"
  }
 },
 "nbformat": 4,
 "nbformat_minor": 2
}
