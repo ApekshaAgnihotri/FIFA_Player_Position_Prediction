{
 "cells": [
  {
   "cell_type": "code",
   "execution_count": 1,
   "metadata": {},
   "outputs": [],
   "source": [
    "# @Author: Apeksha\n",
    "# Code to extract features from dataframes and generate multiclass labels for each of the records.\n",
    "\n",
    "import numpy as np\n",
    "import pandas as pd\n",
    "\n",
    "# Path to the players file.\n",
    "path=\"B:\\MS_SCU\\Winter20\\DataMiningAndPatterRecognition\\Project\\Dataset\\players_19.csv\"\n",
    "\n",
    "# Seperating label columns and training feature columns\n",
    "attribute_columns=[\"sofifa_id\",\"player_url\",\"short_name\",\"long_name\",\"age\",\"dob\",\"height_cm\",\"weight_kg\",\"nationality\",\"club\",\"overall\",\"potential\",\"value_eur\",\"wage_eur\",\"preferred_foot\",\"international_reputation\",\"weak_foot\",\"skill_moves\",\"work_rate\",\"body_type\",\"real_face\",\"release_clause_eur\",\"player_tags\",\"team_jersey_number\",\"loaned_from\",\"joined\",\"contract_valid_until\",\"nation_jersey_number\",\"pace\",\"shooting\",\"passing\",\"dribbling\",\"defending\",\"physic\",\"gk_diving\",\"gk_handling\",\"gk_kicking\",\"gk_reflexes\",\"gk_speed\",\"gk_positioning\",\"player_traits \",\"attacking_crossing\",\"attacking_finishing\",\"attacking_heading_accuracy\",\"attacking_short_passing\",\"attacking_volleys\",\"skill_dribbling\",\"skill_curve\",\"skill_fk_accuracy\",\"skill_long_passing\",\"skill_ball_control\",\"movement_acceleration\",\"movement_sprint_speed\",\"movement_agility\",\"movement_reactions\",\"movement_balance\",\"power_shot_power\",\"power_jumping\",\"power_stamina\",\"power_strength\",\"power_long_shots\",\"mentality_aggression\",\"mentality_interceptions\",\"mentality_positioning\",\"mentality_vision\",\"mentality_penalties\",\"mentality_composure\",\"defending_marking\",\"defending_standing_tackle\",\"defending_sliding_tackle\",\"goalkeeping_diving\",\"goalkeeping_handling\",\"goalkeeping_kicking\",\"goalkeeping_positioning\",\"goalkeeping_reflexes\"]\n",
    "label_columns=[\"sofifa_id\",\"ls\",\"st\",\"rs\",\"lw\",\"lf\",\"cf\",\"rf\",\"rw\",\"lam\",\"cam\",\"ram\",\"lm\",\"lcm\",\"cm\",\"rcm\",\"rm\",\"lwb\",\"ldm\",\"cdm\",\"rdm\",\"rwb\",\"lb\",\"lcb\",\"cb\",\"rcb\",\"rb\"]\n",
    "\n",
    "# Dataframe contains all the records \n",
    "players_records=pd.read_csv(path,sep=\",\",header=\"infer\")\n",
    "\n",
    "# Dataframe with feature columns\n",
    "player_attributes_df=players_records.filter(items=attribute_columns)\n",
    "\n",
    "#Dataframe with label columns\n",
    "label_attributes_df=players_records.filter(items=label_columns)"
   ]
  },
  {
   "cell_type": "code",
   "execution_count": 2,
   "metadata": {},
   "outputs": [],
   "source": [
    "# Getting ids of all the records whose label attributes are null.\n",
    "null_sofifa_ids=label_attributes_df[label_attributes_df[\"ls\"].isnull()][\"sofifa_id\"]\n",
    "\n",
    "# Filter out all the records with null label attributes\n",
    "label_attributes_df=label_attributes_df[label_attributes_df.ls.notnull()]"
   ]
  },
  {
   "cell_type": "code",
   "execution_count": 3,
   "metadata": {},
   "outputs": [],
   "source": [
    "# This method takes data frames with all the label attributes and generates labels for player record.\n",
    "def extract_labels(label_attributes_df):\n",
    "    ids=label_attributes_df.sofifa_id\n",
    "    label_attributes_df.drop(columns=[\"sofifa_id\"],inplace=True)\n",
    "    \n",
    "    # Splitting each column values by \"+\" and storing the addition of splitted values.\n",
    "    # Ex: label[\"ls\"]= 93+1 =94\n",
    "    for col in label_attributes_df.columns:\n",
    "        label_attributes_df[col]=label_attributes_df[col].apply(lambda v:v.split('+')).apply(lambda s: int(s[0])+int(s[1]))\n",
    "        \n",
    "    # Finding all the position which has max values. \n",
    "    label_attributes_df=label_attributes_df[label_attributes_df.apply(lambda x: x == label_attributes_df.max(axis = 1))] \n",
    "    classes=[]\n",
    "    \n",
    "    # Getting the column names\n",
    "    for i in range(label_attributes_df.shape[0]):\n",
    "        l=list(label_attributes_df.columns[np.isfinite(label_attributes_df.iloc[i])])\n",
    "        classes.append(l)\n",
    "    \n",
    "    labels=pd.DataFrame();\n",
    "    labels[\"sofifa_id\"]=ids\n",
    "    labels[\"classes\"]=classes\n",
    "    #labels=label_attributes_df.filter(items=[\"sofifa_id\",\"classes\"])\n",
    "    return labels"
   ]
  },
  {
   "cell_type": "code",
   "execution_count": 4,
   "metadata": {},
   "outputs": [],
   "source": [
    "labels = extract_labels(label_attributes_df)"
   ]
  },
  {
   "cell_type": "code",
   "execution_count": 5,
   "metadata": {},
   "outputs": [
    {
     "data": {
      "text/html": [
       "<div>\n",
       "<style scoped>\n",
       "    .dataframe tbody tr th:only-of-type {\n",
       "        vertical-align: middle;\n",
       "    }\n",
       "\n",
       "    .dataframe tbody tr th {\n",
       "        vertical-align: top;\n",
       "    }\n",
       "\n",
       "    .dataframe thead th {\n",
       "        text-align: right;\n",
       "    }\n",
       "</style>\n",
       "<table border=\"1\" class=\"dataframe\">\n",
       "  <thead>\n",
       "    <tr style=\"text-align: right;\">\n",
       "      <th></th>\n",
       "      <th>sofifa_id</th>\n",
       "      <th>classes</th>\n",
       "    </tr>\n",
       "  </thead>\n",
       "  <tbody>\n",
       "    <tr>\n",
       "      <td>0</td>\n",
       "      <td>20801</td>\n",
       "      <td>[ls, st, rs]</td>\n",
       "    </tr>\n",
       "    <tr>\n",
       "      <td>1</td>\n",
       "      <td>158023</td>\n",
       "      <td>[lf, cf, rf, lam, cam, ram]</td>\n",
       "    </tr>\n",
       "    <tr>\n",
       "      <td>2</td>\n",
       "      <td>190871</td>\n",
       "      <td>[lw, lf, cf, rf, rw, lam, cam, ram]</td>\n",
       "    </tr>\n",
       "    <tr>\n",
       "      <td>4</td>\n",
       "      <td>192985</td>\n",
       "      <td>[lam, cam, ram, lm, rm]</td>\n",
       "    </tr>\n",
       "    <tr>\n",
       "      <td>5</td>\n",
       "      <td>155862</td>\n",
       "      <td>[lcb, cb, rcb]</td>\n",
       "    </tr>\n",
       "    <tr>\n",
       "      <td>...</td>\n",
       "      <td>...</td>\n",
       "      <td>...</td>\n",
       "    </tr>\n",
       "    <tr>\n",
       "      <td>17765</td>\n",
       "      <td>238985</td>\n",
       "      <td>[ldm, cdm, rdm, lcb, cb, rcb]</td>\n",
       "    </tr>\n",
       "    <tr>\n",
       "      <td>17766</td>\n",
       "      <td>240160</td>\n",
       "      <td>[lw, rw]</td>\n",
       "    </tr>\n",
       "    <tr>\n",
       "      <td>17767</td>\n",
       "      <td>241304</td>\n",
       "      <td>[lm, rm, lwb, rwb, lb, rb]</td>\n",
       "    </tr>\n",
       "    <tr>\n",
       "      <td>17768</td>\n",
       "      <td>240158</td>\n",
       "      <td>[lw, rw]</td>\n",
       "    </tr>\n",
       "    <tr>\n",
       "      <td>17769</td>\n",
       "      <td>243961</td>\n",
       "      <td>[ldm, cdm, rdm, lb, lcb, cb, rcb, rb]</td>\n",
       "    </tr>\n",
       "  </tbody>\n",
       "</table>\n",
       "<p>15784 rows × 2 columns</p>\n",
       "</div>"
      ],
      "text/plain": [
       "       sofifa_id                                classes\n",
       "0          20801                           [ls, st, rs]\n",
       "1         158023            [lf, cf, rf, lam, cam, ram]\n",
       "2         190871    [lw, lf, cf, rf, rw, lam, cam, ram]\n",
       "4         192985                [lam, cam, ram, lm, rm]\n",
       "5         155862                         [lcb, cb, rcb]\n",
       "...          ...                                    ...\n",
       "17765     238985          [ldm, cdm, rdm, lcb, cb, rcb]\n",
       "17766     240160                               [lw, rw]\n",
       "17767     241304             [lm, rm, lwb, rwb, lb, rb]\n",
       "17768     240158                               [lw, rw]\n",
       "17769     243961  [ldm, cdm, rdm, lb, lcb, cb, rcb, rb]\n",
       "\n",
       "[15784 rows x 2 columns]"
      ]
     },
     "execution_count": 5,
     "metadata": {},
     "output_type": "execute_result"
    }
   ],
   "source": [
    "labels"
   ]
  },
  {
   "cell_type": "code",
   "execution_count": 6,
   "metadata": {},
   "outputs": [],
   "source": [
    "# Removes records from dataframe for which we dont have labels.\n",
    "player_attributes_df=player_attributes_df[~player_attributes_df['sofifa_id'].isin(null_sofifa_ids)]\n",
    "\n",
    "# Join the attributes and labels to form training dataframe.\n",
    "train_df=player_attributes_df.join(labels.set_index('sofifa_id'),on=\"sofifa_id\")"
   ]
  },
  {
   "cell_type": "code",
   "execution_count": 7,
   "metadata": {},
   "outputs": [
    {
     "data": {
      "text/plain": [
       "(15784, 75)"
      ]
     },
     "execution_count": 7,
     "metadata": {},
     "output_type": "execute_result"
    }
   ],
   "source": [
    "train_df.shape"
   ]
  },
  {
   "cell_type": "code",
   "execution_count": null,
   "metadata": {},
   "outputs": [],
   "source": []
  }
 ],
 "metadata": {
  "kernelspec": {
   "display_name": "Python 3",
   "language": "python",
   "name": "python3"
  },
  "language_info": {
   "codemirror_mode": {
    "name": "ipython",
    "version": 3
   },
   "file_extension": ".py",
   "mimetype": "text/x-python",
   "name": "python",
   "nbconvert_exporter": "python",
   "pygments_lexer": "ipython3",
   "version": "3.7.4"
  }
 },
 "nbformat": 4,
 "nbformat_minor": 2
}
