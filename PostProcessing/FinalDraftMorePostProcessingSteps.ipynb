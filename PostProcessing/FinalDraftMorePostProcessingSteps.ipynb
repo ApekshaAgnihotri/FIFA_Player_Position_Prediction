{
 "cells": [
  {
   "cell_type": "code",
   "execution_count": null,
   "metadata": {},
   "outputs": [],
   "source": [
    "#Juliana \n",
    "#Code for Postprocessing steps to list out what players are good to substitue for a position \n",
    "#And to recommend the top 3 players for a position based on their overall score performance\n",
    "\n",
    "#Pass in the player position and the predictions list\n",
    "def matchingplayers(player_position, predictions):\n",
    "    \n",
    "    #Create a dictionary of all the player_positions and what they stand for\n",
    "    positions = {\"gk_keeping\": \"Goal Keeper\", \"ls\": \"Position X\"}\n",
    "    \n",
    "    for i in range(len(predictions)):\n",
    "        for j in range(len(predictions[i])):\n",
    "            if predictions[i][j] == player_position:\n",
    "                #Look up the player's name from the original pandas data frame\n",
    "                #row = df.loc[i]\n",
    "                #player_name = row['long name']\n",
    "                player_name = player_names[i]\n",
    "                position_name = positions.get(player_position) \n",
    "                print(player_name + \" can substitute for the position \" + position_name + \"position.\")\n",
    "                               \n",
    "#Pass the predictions list and the dataframe of the test data\n",
    "def topthreeplayers(total_predictions, df):        \n",
    "        for i in range(total_predictions):\n",
    "            #row = df.loc[i]\n",
    "            #overall_score = row['overall']\n",
    "            #sof_id = row['sofifa_id']\n",
    "    \n",
    "            overall_score = df.loc[i, 'overall']\n",
    "            sof_id = df.loc[i, 'sofifa_id']\n",
    "            \n",
    "            #info = [overall_score, sof_id]\n",
    "            #overall_scores.append(info)\n",
    "            overall_scores_dictionary[sof_id] == overall_score\n",
    "            \n",
    "        #Sort dictionary by value\n",
    "        #from collections import OrderedDict\n",
    "        #sorted_scores = OrderedDict(sorted(overall_scores_dictionary.items(), key=lambda x: x[1]))\n",
    "        sorted_scores = sorted(overal_scores_dictionary.items() ,  key=lambda x: x[1])\n",
    "        \n",
    "        l = len(sorted_scores)\n",
    "        #ids of top 3\n",
    "        id_top_1 = sorted_scores[l-1][0]\n",
    "        id_top_2 = sorted_scores[1-2][0]\n",
    "        id_top_3 = sorted_scored[l-3][0]\n",
    "        \n",
    "        #Looks up the specific names of the players\n",
    "        name_top_1 = df.loc[id_top_1, 'long_name']\n",
    "        name_top_2 = df.loc[id_top_2, 'long_name']\n",
    "        name_top_3 = df.loc[id_top_3, 'long_name']\n",
    "        \n",
    "        #Creates a data frame of the final resultls\n",
    "        #row_labels = [id_top_1, id_top_2, id_top_3]\n",
    "        #col_labels = ['long_name']\n",
    "        #final_results = df.lookup(self, row_labels, col_labels)\n",
    "        print(\"The top 3 recommended players are: \" name_top_1 + \", \" + name_top_2 + \", \" + name_top_3 + \".\")\n"
   ]
  },
  {
   "cell_type": "code",
   "execution_count": 2,
   "metadata": {},
   "outputs": [
    {
     "name": "stdout",
     "output_type": "stream",
     "text": [
      "   sofifa_id                            long_name         short_name  overall\n",
      "0     158023       Lionel Andrés Messi Cuccittini           L. Messi       94\n",
      "1      20801  Cristiano Ronaldo dos Santos Aveiro  Cristiano Ronaldo       93\n",
      "2     190871        Neymar da Silva Santos Junior          Neymar Jr       92\n",
      "3     200389                            Jan Oblak           J. Oblak       91\n",
      "4     183277                          Eden Hazard          E. Hazard       91\n"
     ]
    }
   ],
   "source": [
    "#Import the dataframe of test data\n",
    "#Getting the test data\n",
    "import pandas as pd\n",
    "test_data = pd.read_csv('/Users/julianashihadeh/Desktop/GroupProject/Player_Position_Prediction/MondayVersion/Player_Position_Prediction/names.csv', sep=\",\",header=\"infer\")\n",
    "print(test_data.head())"
   ]
  },
  {
   "cell_type": "code",
   "execution_count": null,
   "metadata": {},
   "outputs": [],
   "source": [
    "#Import the list of player names\n",
    "#player_names = ....\n",
    "\n",
    "#pass in a player position. For example:\n",
    "#player_position = \"ls\"\n",
    "\n",
    "with open(\"predictions.txt\", \"rb\") as fp:   # Unpickling\n",
    "    predictions = pickle.load(fp)\n",
    "number_of_predictions = len(predictions)\n",
    "\n",
    "#Depending on how final solution of how we merge postprocessing\n",
    "#predictions = classes    \n",
    "#number_of_predictions = len(classes)\n",
    "\n",
    "matchingplayers('ls', predictions)\n",
    "topthreeplayers(number_of_predictions, test_data)"
   ]
  }
 ],
 "metadata": {
  "kernelspec": {
   "display_name": "Python 3",
   "language": "python",
   "name": "python3"
  },
  "language_info": {
   "codemirror_mode": {
    "name": "ipython",
    "version": 3
   },
   "file_extension": ".py",
   "mimetype": "text/x-python",
   "name": "python",
   "nbconvert_exporter": "python",
   "pygments_lexer": "ipython3",
   "version": "3.5.2"
  }
 },
 "nbformat": 4,
 "nbformat_minor": 2
}
