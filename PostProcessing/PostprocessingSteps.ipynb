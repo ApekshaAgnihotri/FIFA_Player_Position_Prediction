{
 "cells": [
  {
   "cell_type": "code",
   "execution_count": null,
   "metadata": {},
   "outputs": [],
   "source": [
    "#Juliana \n",
    "#print(col_names)\n",
    "#To create a dataframe from the predictions\n",
    "df = pd.DataFrame(all_predictions, index = ['gk_positioning', 'ls', 'st', 'rs', 'lw', 'lf', 'cf', 'rf', 'rw', 'lam', 'cam', 'ram', 'lm', 'lcm', 'cm', 'rcm', 'rm', 'lwb', 'ldm', 'cdm', 'rdm', 'rwb', 'lb', 'lcb', 'cb', 'rcb', 'rb'])"
   ]
  },
  {
   "cell_type": "code",
   "execution_count": null,
   "metadata": {},
   "outputs": [],
   "source": [
    "print(df.head())"
   ]
  },
  {
   "cell_type": "code",
   "execution_count": null,
   "metadata": {},
   "outputs": [],
   "source": [
    "addT = df.T\n",
    "print(addT)\n",
    "#Following line of code based off of Apeksha's Code From Feature Extraction\n",
    "labels=addT[addT.apply(lambda x: x == addT.max(axis = 1))] \n",
    "print(labels)\n",
    "classes=[]\n",
    "\n",
    "#Write all labels to this file\n",
    "outputFile = open('randomforestensembleclassresults.txt','w')\n",
    "\n",
    "for i in range(labels.shape[0]):\n",
    "    #Following line of code based off of Apeksha's Code From Feature Extraction\n",
    "    l=list(labels.columns[np.isfinite(labels.iloc[i])])\n",
    "    #print(l)\n",
    "    formatted_l=map(lambda x:x+' ', l)\n",
    "    #Eventually add in the players's name too\n",
    "    outputFile.writelines(\"ID: \" + str(i) + \", Total Classes: \" + str(len(l)) + \" Classes: \")\n",
    "    outputFile.writelines(formatted_l)\n",
    "    outputFile.writelines('\\n')\n",
    "    #for i in l:\n",
    "    #    outputFile.write(i)\n",
    "    #    outputFile.write('\\n')\n",
    "    classes.append(l)\n",
    "    #Save the classes to a file\n",
    "print(len(classes))\n",
    "print(classes)\n",
    "outputFile.close()"
   ]
  },
  {
   "cell_type": "code",
   "execution_count": null,
   "metadata": {},
   "outputs": [],
   "source": [
    "def apply_postprocessing(pred_df):\n",
    "    #Following line of code based off of Apeksha's Code From Feature Extraction\n",
    "    labels=pred_df[pred_df.apply(lambda x: x == pred_df.max(axis = 1))] \n",
    "    print(labels)\n",
    "    classes=[]\n",
    "\n",
    "    #Write all labels to this file\n",
    "    outputFile = open('randomforestensembleclassresults.txt','w')\n",
    "\n",
    "    for i in range(labels.shape[0]):\n",
    "        #Following line of code based off of Apeksha's Code From Feature Extraction\n",
    "        l=list(labels.columns[np.isfinite(labels.iloc[i])])\n",
    "        #print(l)\n",
    "        formatted_l=map(lambda x:x+' ', l)\n",
    "        #Eventually add in the players's name too\n",
    "        outputFile.writelines(\"ID: \" + str(i) + \", Total Classes: \" + str(len(l)) + \" Classes: \")\n",
    "        outputFile.writelines(formatted_l)\n",
    "        outputFile.writelines('\\n')\n",
    "        #for i in l:\n",
    "        #    outputFile.write(i)\n",
    "        #    outputFile.write('\\n')\n",
    "        classes.append(l)\n",
    "        #Save the classes to a file\n",
    "    print(len(classes))\n",
    "    print(classes)\n",
    "    outputFile.close()\n",
    "\n",
    "addT = df.T\n",
    "print(addT)"
   ]
  }
 ],
 "metadata": {
  "kernelspec": {
   "display_name": "Python 3",
   "language": "python",
   "name": "python3"
  },
  "language_info": {
   "codemirror_mode": {
    "name": "ipython",
    "version": 3
   },
   "file_extension": ".py",
   "mimetype": "text/x-python",
   "name": "python",
   "nbconvert_exporter": "python",
   "pygments_lexer": "ipython3",
   "version": "3.5.2"
  }
 },
 "nbformat": 4,
 "nbformat_minor": 2
}
